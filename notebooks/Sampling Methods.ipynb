{
 "metadata": {
  "name": ""
 },
 "nbformat": 3,
 "nbformat_minor": 0,
 "worksheets": [
  {
   "cells": [
    {
     "cell_type": "code",
     "collapsed": false,
     "input": [
      "%load_ext autoreload\n",
      "%autoreload 2\n",
      "%matplotlib inline\n",
      "import matplotlib.pyplot as plt\n",
      "import numpy as np\n",
      "import random"
     ],
     "language": "python",
     "metadata": {},
     "outputs": [],
     "prompt_number": 1
    },
    {
     "cell_type": "heading",
     "level": 1,
     "metadata": {},
     "source": [
      "Sampling Approaches"
     ]
    },
    {
     "cell_type": "heading",
     "level": 2,
     "metadata": {},
     "source": [
      "Direct Sampling"
     ]
    },
    {
     "cell_type": "code",
     "collapsed": false,
     "input": [],
     "language": "python",
     "metadata": {},
     "outputs": [],
     "prompt_number": 1
    },
    {
     "cell_type": "heading",
     "level": 2,
     "metadata": {},
     "source": [
      "Roulette Wheel Sampling"
     ]
    },
    {
     "cell_type": "markdown",
     "metadata": {},
     "source": [
      "As the store location PDF is one dimensional, a simple roulette wheel approach is efficienty for sampling.  The roulette wheel builds a table by computin the cumulative density function (CDF) and assigning each discrete value in the domain an interval.  Values are sampled by generating a random number from a uniform distribution and iterating through the table until the interval containing the randomly-generated number is found."
     ]
    },
    {
     "cell_type": "code",
     "collapsed": false,
     "input": [
      "class RouletteWheelSampler(object):\n",
      "    def __init__(self, domain, pdf):\n",
      "        self._wheel = []\n",
      "        end = 0.0\n",
      "        for x in domain:\n",
      "            end += pdf.probability(x)\n",
      "            self._wheel.append((end, x))\n",
      "        print end\n",
      "\n",
      "    def sample(self):\n",
      "        r = random.random()\n",
      "        for end, x in self._wheel:\n",
      "            if r < end:\n",
      "                return x\n",
      "        # we should never get here since probabilities\n",
      "        # should sum to 1\n",
      "        raise Exception, \"Could not pick a value!\""
     ],
     "language": "python",
     "metadata": {},
     "outputs": [],
     "prompt_number": 2
    },
    {
     "cell_type": "heading",
     "level": 2,
     "metadata": {},
     "source": [
      "Monte Carlo Methods"
     ]
    },
    {
     "cell_type": "markdown",
     "metadata": {},
     "source": [
      "Monte Carlo methods are stochastic methods for sampling from complex probability density functions (PDFs).  Since complex PDFs are often very difficult to sample directly, "
     ]
    },
    {
     "cell_type": "code",
     "collapsed": false,
     "input": [
      "class MonteCarloSampler(object):\n",
      "    def __init__(self, generator, pdf):\n",
      "        self.generator = generator\n",
      "        self.pdf = pdf\n",
      "        self.num_iter_accept = []\n",
      "\n",
      "    def sample(self):\n",
      "        num_iter = 0\n",
      "        while True:\n",
      "            num_iter += 1\n",
      "            obj = self.generator.generate()\n",
      "            prob = self.pdf.probability(obj)\n",
      "            rand = random.random()\n",
      "            if rand < prob:\n",
      "                self.num_iter_accept.append(num_iter)\n",
      "                return obj\n",
      "\n",
      "    def sample_n(self, n):\n",
      "        samples = []\n",
      "        for i in xrange(n):\n",
      "            samples.append(self.sample())\n",
      "        return samples\n",
      "\n",
      "    def acceptance_rate(self):\n",
      "        if len(self.num_iter_accept) == 0:\n",
      "            return 0.0\n",
      "        return 1.0 / np.average(self.num_iter_accept)"
     ],
     "language": "python",
     "metadata": {},
     "outputs": [],
     "prompt_number": 3
    },
    {
     "cell_type": "code",
     "collapsed": false,
     "input": [
      "class GaussianPDF(object):\n",
      "\tdef __init__(self, mean, std_dev):\n",
      "\t\tself.mean = mean\n",
      "\t\tself.std_dev = std_dev\n",
      "\n",
      "\tdef probability(self, x):\n",
      "\t\texponent = -1.0 * np.power(x - self.mean, 2.0) / (2.0 * self.std_dev * self.std_dev)\n",
      "\t\treturn np.exp(exponent) / (self.std_dev * np.sqrt(2.0 * np.pi))\n",
      "\n",
      "class UniformSampler(object):\n",
      "\tdef __init__(self, a, b):\n",
      "\t\tself.a = a\n",
      "\t\tself.b = b\n",
      "\n",
      "\tdef generate(self):\n",
      "\t\treturn random.uniform(self.a, self.b)"
     ],
     "language": "python",
     "metadata": {},
     "outputs": [],
     "prompt_number": 4
    },
    {
     "cell_type": "code",
     "collapsed": false,
     "input": [
      "mean = 0.0\n",
      "std = 1.0\n",
      "narrow_a = -10.0\n",
      "narrow_b = 10.0\n",
      "wide_a = -100.0\n",
      "wide_b = 100.0"
     ],
     "language": "python",
     "metadata": {},
     "outputs": [],
     "prompt_number": 5
    },
    {
     "cell_type": "code",
     "collapsed": false,
     "input": [
      "gaussian_pdf = GaussianPDF(mean, std)\n",
      "narrow_uniform_sampler = UniformSampler(narrow_a, narrow_b)\n",
      "wide_uniform_sampler = UniformSampler(wide_a, wide_b)\n",
      "narrow_mc = MonteCarloSampler(narrow_uniform_sampler, gaussian_pdf)\n",
      "wide_mc = MonteCarloSampler(wide_uniform_sampler, gaussian_pdf)"
     ],
     "language": "python",
     "metadata": {},
     "outputs": [],
     "prompt_number": 6
    },
    {
     "cell_type": "code",
     "collapsed": false,
     "input": [
      "n_samples = 10000\n",
      "gauss_samples = [random.gauss(mean, std) for i in xrange(n_samples)]\n",
      "narrow_uniform_samples = [random.uniform(narrow_a, narrow_b) for i in xrange(n_samples)]\n",
      "wide_uniform_samples = [random.uniform(wide_a, wide_b) for i in xrange(n_samples)]"
     ],
     "language": "python",
     "metadata": {},
     "outputs": [],
     "prompt_number": 7
    },
    {
     "cell_type": "code",
     "collapsed": false,
     "input": [
      "bins = np.linspace(wide_a, wide_b, num=1000)\n",
      "narrow_hist, _ = np.histogram(narrow_uniform_samples, bins=bins, density=True)\n",
      "wide_hist, _ = np.histogram(wide_uniform_samples, bins=bins, density=True)\n",
      "gauss_hist, _ = np.histogram(gauss_samples, bins=bins, density=True)"
     ],
     "language": "python",
     "metadata": {},
     "outputs": [],
     "prompt_number": 8
    },
    {
     "cell_type": "code",
     "collapsed": false,
     "input": [
      "plt.clf()\n",
      "plt.hold(True)\n",
      "plt.plot(bins[:-1], gauss_hist, 'r-', label=\"Gaussian PDF\")\n",
      "plt.plot(bins[:-1], narrow_hist, 'g-', label=\"Narrow MC\")\n",
      "plt.plot(bins[:-1], wide_hist, 'b-', label=\"Wide MC\")\n",
      "plt.legend(loc=\"upper right\")"
     ],
     "language": "python",
     "metadata": {},
     "outputs": [
      {
       "metadata": {},
       "output_type": "pyout",
       "prompt_number": 9,
       "text": [
        "<matplotlib.legend.Legend at 0x10b0fdfd0>"
       ]
      },
      {
       "metadata": {},
       "output_type": "display_data",
       "png": "[encoded data removed]",
       "text": [
        "<matplotlib.figure.Figure at 0x10b0db5d0>"
       ]
      }
     ],
     "prompt_number": 9
    },
    {
     "cell_type": "markdown",
     "metadata": {},
     "source": [
      "The figure shows the differences between the three distributions.  It should be apparent here that the narrow-range uniform distributions overlaps more with the Gaussian distribution than the wide-range uniform distribution.  This will be important later."
     ]
    },
    {
     "cell_type": "code",
     "collapsed": false,
     "input": [
      "n_samples = 10000\n",
      "narrow_samples = narrow_mc.sample_n(n_samples)\n",
      "wide_samples = wide_mc.sample_n(n_samples)\n",
      "gauss_samples = [random.gauss(mean, std) for i in xrange(n_samples)]"
     ],
     "language": "python",
     "metadata": {},
     "outputs": [],
     "prompt_number": 10
    },
    {
     "cell_type": "code",
     "collapsed": false,
     "input": [
      "bins = np.linspace(narrow_a, narrow_b, num=100)\n",
      "narrow_hist, _ = np.histogram(narrow_samples, bins=bins, density=True)\n",
      "wide_hist, _ = np.histogram(wide_samples, bins=bins, density=True)\n",
      "gauss_hist, _ = np.histogram(gauss_samples, bins=bins, density=True)"
     ],
     "language": "python",
     "metadata": {},
     "outputs": [],
     "prompt_number": 11
    },
    {
     "cell_type": "code",
     "collapsed": false,
     "input": [
      "plt.clf()\n",
      "plt.hold(True)\n",
      "plt.plot(bins[:-1], gauss_hist, 'r-', label=\"Gaussian PDF\")\n",
      "plt.plot(bins[:-1], narrow_hist, 'g-', label=\"Narrow MC\")\n",
      "plt.plot(bins[:-1], wide_hist, 'b-', label=\"Wide MC\")\n",
      "plt.legend(loc=\"upper right\")"
     ],
     "language": "python",
     "metadata": {},
     "outputs": [
      {
       "metadata": {},
       "output_type": "pyout",
       "prompt_number": 12,
       "text": [
        "<matplotlib.legend.Legend at 0x10b253f10>"
       ]
      },
      {
       "metadata": {},
       "output_type": "display_data",
       "png": "[encoded data removed]",
       "text": [
        "<matplotlib.figure.Figure at 0x10b12ea90>"
       ]
      }
     ],
     "prompt_number": 12
    },
    {
     "cell_type": "markdown",
     "metadata": {},
     "source": [
      "I ran the Monte Carlo using the wide and narrow uniform distributions to generate samples.  Even though neither of these distributions match the target distribution (Gaussian), the Monte Carlo process ensures that we sample the target distribution.  This is the power of a Monte Carlo method: Samples can be generated from any distribution, as long as it generates samples in the correct domain (e.g., $[-\\infty, \\infty]$).  (In our case, I'm assuming that samples outside of the range $[-10, 10]$ have a near-zero probability, hence my choice for the ranges of the uniform distribution.)  Regardless of the distribution used for generating the samples, the MC method ensures we sample from the correct distribution.\n",
      "\n",
      "When the target distribution is very complex, sampling it directly can be impossible.  MC methods allow us to overcome this limitation."
     ]
    },
    {
     "cell_type": "code",
     "collapsed": false,
     "input": [
      "print narrow_mc.acceptance_rate(), wide_mc.acceptance_rate()"
     ],
     "language": "python",
     "metadata": {},
     "outputs": [
      {
       "output_type": "stream",
       "stream": "stdout",
       "text": [
        "0.0499385755521 0.00500583179404\n"
       ]
      }
     ],
     "prompt_number": 13
    },
    {
     "cell_type": "markdown",
     "metadata": {},
     "source": [
      "This is not to say that the choice of sampling distribution doesn't have any impact -- in fact, it is quite important.  The choice of sampling distribution will affect the efficiency of the Monte Carlo method, in particular the acceptance rate.  The narrow uniform sampler was more likely to pick values in the high-probability region of the Gaussian distribution, while the wide uniform sampler was more likely to pick values outside of the high-probability region.  As a result, the MC method accepted 1 out of every 20 samples generated by the narrow sampler but only 1 out of every 200 samples generated by the wide sampler."
     ]
    }
   ],
   "metadata": {}
  }
 ]
}