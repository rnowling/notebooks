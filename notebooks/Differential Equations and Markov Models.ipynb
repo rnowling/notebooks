{
 "metadata": {
  "name": ""
 },
 "nbformat": 3,
 "nbformat_minor": 0,
 "worksheets": [
  {
   "cells": [
    {
     "cell_type": "code",
     "collapsed": false,
     "input": [
      "%load_ext autoreload\n",
      "%autoreload 2\n",
      "%matplotlib inline\n",
      "import matplotlib.pyplot as plt\n",
      "import numpy as np\n",
      "import random"
     ],
     "language": "python",
     "metadata": {},
     "outputs": [],
     "prompt_number": 1
    },
    {
     "cell_type": "markdown",
     "metadata": {},
     "source": [
      "The solutions of Ordinary Differential Equations (ODEs) and Stochastic Differential Equations (SDEs) can be represented as Markov Models.\n",
      "\n",
      "To examine these ideas, we'll consider a toy system (harmonic oscillator) simulated in the NVE and NVT ensembles and analyze the resulting Markov Models.\n",
      "\n",
      "The potential of the harmonic oscillator is given as:\n",
      "\n",
      "$$\n",
      "U(x) = \\frac{1}{2} k x^2\n",
      "$$\n",
      "\n",
      "where $k$ is the force constant, given by $ k = m \\omega^2$, $\\omega$ is the frequency of oscillation, and $m$ is the mass.\n",
      "\n",
      "To simulate the harmonic oscillator, we compute the force as the derivative of the potential:\n",
      "\n",
      "$$\n",
      "F(x) = - \\nabla U = -kx\n",
      "$$\n",
      "\n",
      "In the NVE ensemble, we use Newton's equations of motion:\n",
      "\n",
      "$$\n",
      "m \\ddot{x} = -kx\n",
      "$$\n",
      "\n",
      "Although an analytic solution exists, we'll use numerical integration since it's more general.  The leapfrog method is a good second-order method for numerical integration:\n",
      "\n",
      "$$\n",
      "x_i = x_{i-1} + v_{i-1/2} \\Delta t\n",
      "$$\n",
      "\n",
      "$$ \n",
      "v_{i+1/2} = v_{i-1/2} + F(x_i) \\Delta t\n",
      "$$\n",
      "\n"
     ]
    },
    {
     "cell_type": "code",
     "collapsed": false,
     "input": [
      "def simulate_spring(k, x0, v0, deltaT, numsteps):\n",
      "    xs = []\n",
      "    vs = []\n",
      "    xi = x0\n",
      "    v_half = v0\n",
      "    for i in xrange(numsteps):\n",
      "        xi = xi + v_half * deltaT\n",
      "        fi = -1.0 * k * xi\n",
      "        v_half = v_half + fi * deltaT\n",
      "        xs.append(xi)\n",
      "        vs.append(v_half)\n",
      "    return xs, vs"
     ],
     "language": "python",
     "metadata": {},
     "outputs": [],
     "prompt_number": 45
    },
    {
     "cell_type": "markdown",
     "metadata": {},
     "source": [
      "The number of steps comes from 2.0 * $\\pi$ / 0.1"
     ]
    },
    {
     "cell_type": "code",
     "collapsed": false,
     "input": [
      "timestep= 0.1\n",
      "numsteps = (int(2.0 * np.pi / timestep) + 2) * 100\n",
      "print numsteps\n",
      "nve_xs, nve_vs = simulate_spring(1, 0, 10, timestep, numsteps)"
     ],
     "language": "python",
     "metadata": {},
     "outputs": [
      {
       "output_type": "stream",
       "stream": "stdout",
       "text": [
        "6400\n"
       ]
      }
     ],
     "prompt_number": 53
    },
    {
     "cell_type": "code",
     "collapsed": false,
     "input": [
      "plt.plot(nve_xs, nve_vs)\n",
      "plt.xlabel(\"Position\", fontsize=16)\n",
      "plt.ylabel(\"Velocity\", fontsize=16)"
     ],
     "language": "python",
     "metadata": {},
     "outputs": [
      {
       "metadata": {},
       "output_type": "pyout",
       "prompt_number": 54,
       "text": [
        "<matplotlib.text.Text at 0x11841ecd0>"
       ]
      },
      {
       "metadata": {},
       "output_type": "display_data",
       "png": "[encoded data removed]",
       "text": [
        "<matplotlib.figure.Figure at 0x118380250>"
       ]
      }
     ],
     "prompt_number": 54
    },
    {
     "cell_type": "markdown",
     "metadata": {},
     "source": [
      "ODE solutions are deterministic.  Each point in phase space $(x_1, x_2, \\dots, x_n, v_1, v_2, \\dots, v_n)$ maps to one and only one other point in phase space.  The reverse is also true.  As such, choice of state at each timestep $t_i$ is determined by the the choice of state at timestep $t_{i-1}$, also known as the Markov property. \n",
      "\n",
      "From the solution to the ODE, we can build a Markov Model.  Let's bin the phase space so that we can reduce the number of states needed."
     ]
    },
    {
     "cell_type": "code",
     "collapsed": false,
     "input": [],
     "language": "python",
     "metadata": {},
     "outputs": []
    }
   ],
   "metadata": {}
  }
 ]
}