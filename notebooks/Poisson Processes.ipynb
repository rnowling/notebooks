{
 "metadata": {
  "name": ""
 },
 "nbformat": 3,
 "nbformat_minor": 0,
 "worksheets": [
  {
   "cells": [
    {
     "cell_type": "code",
     "collapsed": false,
     "input": [
      "%load_ext autoreload\n",
      "%autoreload 2\n",
      "%matplotlib inline\n",
      "import matplotlib.pyplot as plt\n",
      "import numpy as np\n",
      "import random"
     ],
     "language": "python",
     "metadata": {},
     "outputs": [],
     "prompt_number": 1
    },
    {
     "cell_type": "heading",
     "level": 1,
     "metadata": {},
     "source": [
      "Poisson Processes"
     ]
    },
    {
     "cell_type": "markdown",
     "metadata": {},
     "source": [
      "Let's start with a simple homogenous Poisson process.  A Poisson process is a continuous-time stochastic process that models the occurence of events within a given time interval.  A Poisson process is known as a pure-birth process.  The term homogenous refers to the fact that the rate of event occurences is constant over the time domain. The events are assumed to occur with an arrival time modeled by an exponential distribution.\n",
      "\n",
      "The Poisson process is described by:\n",
      "\n",
      "$$ P[(N(t + \\Delta t) - N(t)) = k] = \\frac{(\\lambda \\Delta t)^k}{k!}e^{-\\lambda \\Delta t}$$\n",
      "\n",
      "The above equations describes the probability of $k$ events occuring in the interval $(t, t + \\Delta t]$ given $\\lambda$, the rate of event occurences given in units of events/$\\Delta t$.\n",
      "\n",
      "I'll mention two approaches for generating events from the Poisson process.\n",
      "\n",
      "The first approach is similar to the Roulette Wheel sampling method discussed early on.  We can build the cumulative density function (CDF) by computing the probabilities for $k = 0, 1, 2, \\dots$ events occuring in the time interval $(t, t + \\Delta t]$.  We then generate a random number from a uniform distribution and find the number of events by finding the matching range of probabilities.  Since $k$ could be infinite, we only generate probabilities until we have a match.\n",
      "\n",
      "There are two potential problems with this approach:\n",
      "\n",
      "1. We don't know the exact arrival time of each event -- we only know how many events have occured in the interval.  To achieve a fine granularity, we need to use a small value for $\\Delta t$.\n",
      "2. Finding the number of events requires evaluating the probabilities for all smaller values of $k$.\n",
      "\n",
      "As a result, this approach ends up being computationally intensive.\n",
      "\n",
      "For the second approach, we can compute the waiting time $X_n$ of event $n$ by sampling from the exponential distribution:\n",
      "\n",
      "$$ f(X_n) = (\\lambda \\Delta t)^k e^{-\\lambda \\Delta t} $$\n",
      "\n",
      "The arrival time of $n$ is the sum of all the previous waiting times:\n",
      "\n",
      "$$ t_n = \\sum_{i=1}^n X_i $$\n",
      "\n",
      "The second approach overcomes both disadvantages of the first approach. It gives exact arrival times and is computationally efficient.\n",
      "\n",
      "(I am unsure of whether the second approach will hold for non-homogenous Poisson processes.)"
     ]
    },
    {
     "cell_type": "code",
     "collapsed": false,
     "input": [
      "class HomogenousPoissonProcess(object):\n",
      "    def __init__(self, rate=None):\n",
      "        self._rate = rate\n",
      "        self._last_arrival = 0.0\n",
      "        self._last_time_period = 0.0\n",
      "        \n",
      "    def sample(self, time_period):\n",
      "        arrival_times = []\n",
      "        if self._last_arrival > self._last_time_period:\n",
      "            arrival_times.append(self._last_arrival)\n",
      "        self._last_time_period += time_period\n",
      "        while True:\n",
      "            waiting_time = random.expovariate(self._rate)\n",
      "            self._last_arrival += waiting_time\n",
      "            if self._last_arrival < self._last_time_period:\n",
      "                arrival_times.append(self._last_arrival)\n",
      "            else:\n",
      "                break  \n",
      "        return arrival_times"
     ],
     "language": "python",
     "metadata": {},
     "outputs": [],
     "prompt_number": 2
    },
    {
     "cell_type": "code",
     "collapsed": false,
     "input": [
      "rate = 10.0 # 10 events per hour\n",
      "process = HomogenousPoissonProcess(rate=rate)\n",
      "arrival_times = process.sample(24.0)\n",
      "print \"%s events\" % len(arrival_times)\n",
      "print \"Expected: %s events/hour\" % rate\n",
      "print \"Observed: %s events/hour\" % (len(arrival_times) / 24.0)\n",
      "plt.plot(xrange(1, len(arrival_times) + 1), arrival_times)\n",
      "plt.xlabel(\"Events\")\n",
      "plt.ylabel(\"Arrival Times\")\n",
      "plt.title(\"Homogenous Poisson Process\")"
     ],
     "language": "python",
     "metadata": {},
     "outputs": [
      {
       "output_type": "stream",
       "stream": "stdout",
       "text": [
        "229 events\n",
        "Expected: 10.0 events/hour\n",
        "Observed: 9.54166666667 events/hour\n"
       ]
      },
      {
       "metadata": {},
       "output_type": "pyout",
       "prompt_number": 3,
       "text": [
        "<matplotlib.text.Text at 0x1045769d0>"
       ]
      },
      {
       "metadata": {},
       "output_type": "display_data",
       "png": "[encoded data removed]",
       "text": [
        "<matplotlib.figure.Figure at 0x1045e0d10>"
       ]
      }
     ],
     "prompt_number": 3
    },
    {
     "cell_type": "code",
     "collapsed": false,
     "input": [],
     "language": "python",
     "metadata": {},
     "outputs": [],
     "prompt_number": 3
    }
   ],
   "metadata": {}
  }
 ]
}